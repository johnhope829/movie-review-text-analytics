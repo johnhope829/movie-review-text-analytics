{
 "cells": [
  {
   "cell_type": "markdown",
   "id": "e1a86606-cb12-4947-9ffd-445d25e70b90",
   "metadata": {},
   "source": [
    "## Import Packages"
   ]
  },
  {
   "cell_type": "code",
   "execution_count": 1,
   "id": "ec1b5600",
   "metadata": {
    "tags": []
   },
   "outputs": [],
   "source": [
    "import pandas as pd\n",
    "import numpy as np\n",
    "from imdb import IMDb\n",
    "from concurrent.futures import ThreadPoolExecutor\n",
    "from tqdm import tqdm  # Progress bar library"
   ]
  },
  {
   "cell_type": "markdown",
   "id": "63c5dffe-6d44-42fe-9596-f914501fefc3",
   "metadata": {},
   "source": [
    "## Read in Data"
   ]
  },
  {
   "cell_type": "code",
   "execution_count": 2,
   "id": "cf043f1c",
   "metadata": {
    "tags": []
   },
   "outputs": [],
   "source": [
    "#pos_urls = pd.read_csv('../data/aclImdb/aclImdb/train/urls_pos.txt', header=None)\n",
    "#neg_urls = pd.read_csv('../data/aclImdb/aclImdb/train/urls_neg.txt', header=None)\n",
    "unsup_urls = pd.read_csv('../data/aclImdb/train/urls_unsup.txt', header=None)\n",
    "#pd.concat([pos_urls,neg_urls,unsup_urls])"
   ]
  },
  {
   "cell_type": "code",
   "execution_count": 3,
   "id": "733f4b78",
   "metadata": {
    "tags": []
   },
   "outputs": [],
   "source": [
    "ids = [(url.split('/')[4].replace('tt',''), url) for url in unsup_urls[0].to_list()]\n",
    "distinct_ids = list(set(ids))"
   ]
  },
  {
   "cell_type": "markdown",
   "id": "12e2090c-7176-46de-9433-20cd102cea9a",
   "metadata": {},
   "source": [
    "## Get TV/Movie Info"
   ]
  },
  {
   "cell_type": "code",
   "execution_count": null,
   "id": "42363dd6-49f1-47b0-bd41-7eb104a3fcd9",
   "metadata": {
    "tags": []
   },
   "outputs": [
    {
     "name": "stderr",
     "output_type": "stream",
     "text": [
      "Processing Movies:  10%|▉         | 694/7091 [04:37<52:43,  2.02it/s]  "
     ]
    }
   ],
   "source": [
    "# Create an instance of the IMDb class\n",
    "ia = IMDb()\n",
    "\n",
    "# Function to get movie details with retry logic and delay\n",
    "def get_movie_details(id, retries=3):\n",
    "    attempt = 0\n",
    "    while attempt < retries:\n",
    "        try:\n",
    "            # Get the movie by IMDb ID\n",
    "            movie = ia.get_movie(str(id[0]))\n",
    "            \n",
    "            # Collect details about the movie\n",
    "            movie_details = {\n",
    "                \"ID\": id[0],\n",
    "                \"URL\": id[1],\n",
    "                \"Title\": movie['title'],\n",
    "                \"Year\": movie['year'],\n",
    "                \"Rating\": movie.get('rating', 'N/A'),\n",
    "                \"Genres\": \", \".join(movie.get('genres', []))\n",
    "            }\n",
    "            \n",
    "            return movie_details\n",
    "        except Exception as e:\n",
    "            attempt += 1\n",
    "            print(f\"Error for {id}: {str(e)}. Retrying ({attempt}/{retries})...\")\n",
    "    \n",
    "    return {\"Error\": f\"Failed to retrieve {id} after {retries} attempts.\"}\n",
    "\n",
    "# List to store the results\n",
    "movie_results = []\n",
    "\n",
    "# Using ThreadPoolExecutor to parallelize with two workers\n",
    "with ThreadPoolExecutor(max_workers=5) as executor:\n",
    "    # Use tqdm to show progress bar while processing the IDs\n",
    "    results = list(tqdm(executor.map(get_movie_details, distinct_ids), total=len(distinct_ids), desc=\"Processing Movies\"))\n",
    "    \n",
    "    # Append the results to the movie_results list\n",
    "    movie_results.extend(results)"
   ]
  },
  {
   "cell_type": "code",
   "execution_count": null,
   "id": "d4f55bf4-d4dd-4eb9-962c-1db955c0d134",
   "metadata": {
    "tags": []
   },
   "outputs": [],
   "source": [
    "pd.DataFrame(movie_results).to_csv('../data/movie_results.csv', index=False)"
   ]
  }
 ],
 "metadata": {
  "kernelspec": {
   "display_name": "Python 3 (ipykernel)",
   "language": "python",
   "name": "python3"
  },
  "language_info": {
   "codemirror_mode": {
    "name": "ipython",
    "version": 3
   },
   "file_extension": ".py",
   "mimetype": "text/x-python",
   "name": "python",
   "nbconvert_exporter": "python",
   "pygments_lexer": "ipython3",
   "version": "3.11.4"
  }
 },
 "nbformat": 4,
 "nbformat_minor": 5
}
